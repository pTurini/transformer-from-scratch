{
 "cells": [
  {
   "cell_type": "markdown",
   "metadata": {},
   "source": [
    "### Coding GPT from scratch:\n",
    "(Only using pyTorch for neural network training and encoding)\n",
    "\n",
    "This projects layouts the base structure and architecture for a language model, skipping the training and finetuning on large data (for obvious purposes). This is a character based LLM, rather than a whole word one, for simplicity purposes.\n",
    "\n",
    "Its main purpose is to learn and consolidate my knowledge of the transformer architecture. I plan to follow it up, building the neural network from scratch (which I have already done in C), and then explore more advanced topics of LLMs, such as RAG, CAG, LPMs, etc."
   ]
  },
  {
   "cell_type": "code",
   "execution_count": 8,
   "metadata": {},
   "outputs": [],
   "source": [
    "import requests\n",
    "import numpy as np"
   ]
  },
  {
   "cell_type": "code",
   "execution_count": 2,
   "metadata": {},
   "outputs": [
    {
     "name": "stdout",
     "output_type": "stream",
     "text": [
      "Dataset extracted. \n",
      "\n",
      "First Citizen:\n",
      "Before we proceed any further, hear me speak.\n",
      "\n",
      "All:\n",
      "Speak, speak.\n",
      "\n",
      "First Citizen:\n",
      "You are all resolved rather to die than to famish?\n",
      "\n",
      "All:\n",
      "Resolved. resolved.\n",
      "\n",
      "First Citizen:\n",
      "First, you\n"
     ]
    }
   ],
   "source": [
    "# Extracts the Tiny-Shakespeare and stores it in a variable:\n",
    "url =\"https://raw.githubusercontent.com/karpathy/char-rnn/master/data/tinyshakespeare/input.txt\"\n",
    "r = requests.get(url)\n",
    "if r.status_code == 200:\n",
    "    text = r.text\n",
    "    print(\"Dataset extracted. \\n\")\n",
    "else:\n",
    "    print(f\"Failed to fetch. Status: {r.status_code}\")\n",
    "\n",
    "print(text[:200])\n"
   ]
  },
  {
   "cell_type": "code",
   "execution_count": 3,
   "metadata": {},
   "outputs": [
    {
     "name": "stdout",
     "output_type": "stream",
     "text": [
      "\n",
      " !$&',-.3:;?ABCDEFGHIJKLMNOPQRSTUVWXYZabcdefghijklmnopqrstuvwxyz\n",
      " \n",
      " Vocabulary size: 65\n"
     ]
    }
   ],
   "source": [
    "#Organizes the vocabulary (in this case unique characters, rather than words)\n",
    "chars = sorted(list(set(text)))\n",
    "vocab_size = len(chars)\n",
    "print(''.join(chars))\n",
    "print(\" \\n Vocabulary size: \"+ str(vocab_size))"
   ]
  },
  {
   "cell_type": "code",
   "execution_count": 4,
   "metadata": {},
   "outputs": [
    {
     "name": "stdout",
     "output_type": "stream",
     "text": [
      "[20, 53, 40, 40, 47, 58, 57]\n",
      "Hobbits\n"
     ]
    }
   ],
   "source": [
    "#Tokenizing the input text, encoding individual characters into vectors or integers\n",
    "\n",
    "string_to_token = { ch: i for i, ch in enumerate(chars)} #creates dictionary with character as key and token as value\n",
    "token_to_string = {i: ch for i, ch in enumerate(chars)} #creates dictionary with token as key and character as value\n",
    "\n",
    "encode = lambda s : [string_to_token[c] for c in s] #given a string, give the corresponding series of tokens\n",
    "decode = lambda l : ''.join([token_to_string[i] for i in l])#given a series of tokens, return the strings (concats into a single string)\n",
    "\n",
    "print(encode(\"Hobbits\"))\n",
    "print(decode(encode(\"Hobbits\")))\n",
    "#Google uses Sentrencepeice for encoding, which encodes subwords.\n",
    "#OpenAI uses tiktoken, which is a BPE tokenizer, with around 50k tokens.\n",
    "#There is a trade-off between vocabulary size and token size. Thus subword is often used."
   ]
  },
  {
   "cell_type": "code",
   "execution_count": 6,
   "metadata": {},
   "outputs": [
    {
     "data": {
      "text/plain": [
       "(torch.Size([1115394]), torch.int64)"
      ]
     },
     "execution_count": 6,
     "metadata": {},
     "output_type": "execute_result"
    }
   ],
   "source": [
    "#Tokenizing the whole tinyshakespeare dataset, using pyTorch:\n",
    "import torch\n",
    "data = torch.tensor(encode(text), dtype = torch.long) # the data tensor is tikenized in its entirety\n",
    "data.shape, data.dtype"
   ]
  },
  {
   "cell_type": "code",
   "execution_count": 7,
   "metadata": {},
   "outputs": [
    {
     "name": "stdout",
     "output_type": "stream",
     "text": [
      "tensor([18, 47, 56, 57, 58,  1, 15, 47, 58, 47, 64, 43, 52, 10,  0, 14, 43, 44,\n",
      "        53, 56, 43,  1, 61, 43,  1, 54, 56, 53, 41, 43, 43, 42,  1, 39, 52, 63,\n",
      "         1, 44, 59, 56, 58, 46, 43, 56,  6,  1, 46, 43, 39, 56,  1, 51, 43,  1,\n",
      "        57, 54, 43, 39, 49,  8,  0,  0, 13, 50, 50, 10,  0, 31, 54, 43, 39, 49,\n",
      "         6,  1, 57, 54, 43, 39, 49,  8,  0,  0, 18, 47, 56, 57, 58,  1, 15, 47,\n",
      "        58, 47, 64, 43, 52, 10,  0, 37, 53, 59,  1, 39, 56, 43,  1, 39, 50, 50,\n",
      "         1, 56, 43, 57, 53, 50, 60, 43, 42,  1, 56, 39, 58, 46, 43, 56,  1, 58,\n",
      "        53,  1, 42, 47, 43,  1, 58, 46, 39, 52,  1, 58, 53,  1, 44, 39, 51, 47,\n",
      "        57, 46, 12,  0,  0, 13, 50, 50, 10,  0, 30, 43, 57, 53, 50, 60, 43, 42,\n",
      "         8,  1, 56, 43, 57, 53, 50, 60, 43, 42,  8,  0,  0, 18, 47, 56, 57, 58,\n",
      "         1, 15, 47, 58, 47, 64, 43, 52, 10,  0, 18, 47, 56, 57, 58,  6,  1, 63,\n",
      "        53, 59])\n"
     ]
    }
   ],
   "source": [
    "print(data[:200]) #tokenized the full dataset into a sequence of integers"
   ]
  },
  {
   "cell_type": "code",
   "execution_count": null,
   "metadata": {},
   "outputs": [],
   "source": [
    "#splitting into training and validation sets, 90% for training\n",
    "n = int(0.9*len(data)) #casts 0.9*len(data) to int\n",
    "train_data = data[:n] #indexes 90% as training\n",
    "val_data = data[n:] #the rest is validation, checking for overfitting"
   ]
  },
  {
   "cell_type": "code",
   "execution_count": 13,
   "metadata": {},
   "outputs": [
    {
     "data": {
      "text/plain": [
       "tensor([18, 47, 56, 57, 58,  1, 15, 47, 58])"
      ]
     },
     "execution_count": 13,
     "metadata": {},
     "output_type": "execute_result"
    }
   ],
   "source": [
    "#feeding the text into the transformer by chunking the dataset and then sample it for training\n",
    "block_size = 8 #AKA context window size\n",
    "train_data[:block_size+1] #first context window of the dataset"
   ]
  },
  {
   "cell_type": "code",
   "execution_count": 14,
   "metadata": {},
   "outputs": [
    {
     "name": "stdout",
     "output_type": "stream",
     "text": [
      "When input is tensor([18]), the target is: 47\n",
      "When input is tensor([18, 47]), the target is: 56\n",
      "When input is tensor([18, 47, 56]), the target is: 57\n",
      "When input is tensor([18, 47, 56, 57]), the target is: 58\n",
      "When input is tensor([18, 47, 56, 57, 58]), the target is: 1\n",
      "When input is tensor([18, 47, 56, 57, 58,  1]), the target is: 15\n",
      "When input is tensor([18, 47, 56, 57, 58,  1, 15]), the target is: 47\n",
      "When input is tensor([18, 47, 56, 57, 58,  1, 15, 47]), the target is: 58\n"
     ]
    }
   ],
   "source": [
    "#the training is done by guessing the next word, but for every single subsequence as well, in parallel\n",
    "#the chunks of 9 characters actually only contain 8 examples, since the first word is the seed and must be present.\n",
    "x = train_data[:block_size] #1st window, context\n",
    "y = train_data[1:block_size+1] #2nd sliding window, it is the target\n",
    "for t in range(block_size):\n",
    "    context= x[:t+1]\n",
    "    target = y[t]\n",
    "    print(f\"When input is {context}, the target is: {target}\")\n",
    "\n",
    "#The training is done from context 1 to block_size in parallel. It makes it more efficient to train. \n",
    "#And allows the transformer to percieve long and short term relationships between words, form 1 to block_size "
   ]
  },
  {
   "cell_type": "code",
   "execution_count": 19,
   "metadata": {},
   "outputs": [
    {
     "name": "stdout",
     "output_type": "stream",
     "text": [
      "Inputs:\n",
      "torch.Size([4, 8])\n",
      "tensor([[24, 43, 58,  5, 57,  1, 46, 43],\n",
      "        [44, 53, 56,  1, 58, 46, 39, 58],\n",
      "        [52, 58,  1, 58, 46, 39, 58,  1],\n",
      "        [25, 17, 27, 10,  0, 21,  1, 54]])\n",
      "Targets:\n",
      "torch.Size([4, 8])\n",
      "tensor([[43, 58,  5, 57,  1, 46, 43, 39],\n",
      "        [53, 56,  1, 58, 46, 39, 58,  1],\n",
      "        [58,  1, 58, 46, 39, 58,  1, 46],\n",
      "        [17, 27, 10,  0, 21,  1, 54, 39]])\n",
      "==============\n",
      "When input is [24], the target is: 43\n",
      "When input is [24, 43], the target is: 58\n",
      "When input is [24, 43, 58], the target is: 5\n",
      "When input is [24, 43, 58, 5], the target is: 57\n",
      "When input is [24, 43, 58, 5, 57], the target is: 1\n",
      "When input is [24, 43, 58, 5, 57, 1], the target is: 46\n",
      "When input is [24, 43, 58, 5, 57, 1, 46], the target is: 43\n",
      "When input is [24, 43, 58, 5, 57, 1, 46, 43], the target is: 39\n",
      "When input is [44], the target is: 53\n",
      "When input is [44, 53], the target is: 56\n",
      "When input is [44, 53, 56], the target is: 1\n",
      "When input is [44, 53, 56, 1], the target is: 58\n",
      "When input is [44, 53, 56, 1, 58], the target is: 46\n",
      "When input is [44, 53, 56, 1, 58, 46], the target is: 39\n",
      "When input is [44, 53, 56, 1, 58, 46, 39], the target is: 58\n",
      "When input is [44, 53, 56, 1, 58, 46, 39, 58], the target is: 1\n",
      "When input is [52], the target is: 58\n",
      "When input is [52, 58], the target is: 1\n",
      "When input is [52, 58, 1], the target is: 58\n",
      "When input is [52, 58, 1, 58], the target is: 46\n",
      "When input is [52, 58, 1, 58, 46], the target is: 39\n",
      "When input is [52, 58, 1, 58, 46, 39], the target is: 58\n",
      "When input is [52, 58, 1, 58, 46, 39, 58], the target is: 1\n",
      "When input is [52, 58, 1, 58, 46, 39, 58, 1], the target is: 46\n",
      "When input is [25], the target is: 17\n",
      "When input is [25, 17], the target is: 27\n",
      "When input is [25, 17, 27], the target is: 10\n",
      "When input is [25, 17, 27, 10], the target is: 0\n",
      "When input is [25, 17, 27, 10, 0], the target is: 21\n",
      "When input is [25, 17, 27, 10, 0, 21], the target is: 1\n",
      "When input is [25, 17, 27, 10, 0, 21, 1], the target is: 54\n",
      "When input is [25, 17, 27, 10, 0, 21, 1, 54], the target is: 39\n"
     ]
    }
   ],
   "source": [
    "#multiple blocks are computed in parallel into the transformer model, taking advantage of the GPUs.\n",
    "#this batching is done for efficiency, and they are processed independently\n",
    "\n",
    "torch.manual_seed(1337) #makes RNG stable for control and debugging purposes\n",
    "batch_size = 4\n",
    "block_size = 8\n",
    "\n",
    "def get_batch(split):\n",
    "    #generates the batch with inputs x and targets y\n",
    "    data = train_data if split == 'train' else val_data\n",
    "    ix = torch.randint(len(data) - block_size, (batch_size,)) #generates batch_size random positions between 0 and the total indexable training set\n",
    "    x = torch.stack([data[i:i+block_size] for i in ix])\n",
    "    y= torch.stack([data[i+1:i+block_size+1] for i in ix])\n",
    "    return x,y\n",
    "\n",
    "xb, yb = get_batch('train')\n",
    "print('Inputs:')\n",
    "print(xb.shape)\n",
    "print(xb)\n",
    "\n",
    "print('Targets:')\n",
    "print(yb.shape)\n",
    "print(yb)\n",
    "print(\"==============\")\n",
    "\n",
    "for b in range(batch_size):\n",
    "    for t in range(block_size):\n",
    "        context = xb[b, :t+1]\n",
    "        target = yb[b,t]\n",
    "        print(f\"When input is {context.tolist()}, the target is: {target}\")"
   ]
  },
  {
   "cell_type": "code",
   "execution_count": 20,
   "metadata": {},
   "outputs": [
    {
     "data": {
      "text/plain": [
       "<torch._C.Generator at 0x273758e1b90>"
      ]
     },
     "execution_count": 20,
     "metadata": {},
     "output_type": "execute_result"
    }
   ],
   "source": [
    "#feeding it into a language model, the Bigram Language Model:\n",
    "\n",
    "import torch.nn as nn\n",
    "from torch.nn import functional as F\n",
    "torch.manual_seed(1337) #makes RNG stable for control and debugging purposes\n",
    "\n",
    "class BigramLanguageModel(nn.Module):\n",
    "\n",
    "    def __init__:\n",
    "    \n",
    "\n",
    "    def forward(self, idx, targets):\n",
    "\n",
    "        "
   ]
  }
 ],
 "metadata": {
  "kernelspec": {
   "display_name": "Python 3",
   "language": "python",
   "name": "python3"
  },
  "language_info": {
   "codemirror_mode": {
    "name": "ipython",
    "version": 3
   },
   "file_extension": ".py",
   "mimetype": "text/x-python",
   "name": "python",
   "nbconvert_exporter": "python",
   "pygments_lexer": "ipython3",
   "version": "3.12.7"
  }
 },
 "nbformat": 4,
 "nbformat_minor": 2
}
